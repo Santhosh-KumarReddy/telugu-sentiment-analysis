{
 "cells": [
  {
   "cell_type": "markdown",
   "id": "076611b7",
   "metadata": {},
   "source": [
    "# Telugu Sentiment Analysis Using XLM-RoBERTa"
   ]
  },
  {
   "cell_type": "code",
   "execution_count": null,
   "id": "a5334bfb",
   "metadata": {},
   "outputs": [],
   "source": [
    "import os\n",
    "import pandas as pd\n",
    "import numpy as np\n",
    "import torch\n",
    "import torch.nn as nn\n",
    "import torch.optim as optim\n",
    "from torch.utils.data import Dataset, DataLoader\n",
    "from sklearn.model_selection import train_test_split\n",
    "from sklearn.metrics import classification_report, confusion_matrix, accuracy_score\n",
    "from transformers import AutoTokenizer, AutoModel\n",
    "from tqdm import tqdm"
   ]
  },
  {
   "cell_type": "markdown",
   "id": "15b18d9b",
   "metadata": {},
   "source": [
    "## 1. XLM-RoBERTa Embeddings with In-Built Classifier on Translated English Comments"
   ]
  },
  {
   "cell_type": "code",
   "execution_count": null,
   "id": "f5bdc54c",
   "metadata": {},
   "outputs": [
    {
     "name": "stderr",
     "output_type": "stream",
     "text": [
      "2025-06-11 12:42:44.692790: I tensorflow/core/util/port.cc:153] oneDNN custom operations are on. You may see slightly different numerical results due to floating-point round-off errors from different computation orders. To turn them off, set the environment variable `TF_ENABLE_ONEDNN_OPTS=0`.\n",
      "2025-06-11 12:42:44.703368: E external/local_xla/xla/stream_executor/cuda/cuda_fft.cc:467] Unable to register cuFFT factory: Attempting to register factory for plugin cuFFT when one has already been registered\n",
      "WARNING: All log messages before absl::InitializeLog() is called are written to STDERR\n",
      "E0000 00:00:1749625964.713916  716160 cuda_dnn.cc:8579] Unable to register cuDNN factory: Attempting to register factory for plugin cuDNN when one has already been registered\n",
      "E0000 00:00:1749625964.716823  716160 cuda_blas.cc:1407] Unable to register cuBLAS factory: Attempting to register factory for plugin cuBLAS when one has already been registered\n",
      "W0000 00:00:1749625964.726796  716160 computation_placer.cc:177] computation placer already registered. Please check linkage and avoid linking the same target more than once.\n",
      "W0000 00:00:1749625964.726826  716160 computation_placer.cc:177] computation placer already registered. Please check linkage and avoid linking the same target more than once.\n",
      "W0000 00:00:1749625964.726828  716160 computation_placer.cc:177] computation placer already registered. Please check linkage and avoid linking the same target more than once.\n",
      "W0000 00:00:1749625964.726829  716160 computation_placer.cc:177] computation placer already registered. Please check linkage and avoid linking the same target more than once.\n",
      "2025-06-11 12:42:44.730603: I tensorflow/core/platform/cpu_feature_guard.cc:210] This TensorFlow binary is optimized to use available CPU instructions in performance-critical operations.\n",
      "To enable the following instructions: AVX2 AVX512F AVX512_VNNI AVX512_BF16 AVX512_FP16 AVX_VNNI AMX_TILE AMX_INT8 AMX_BF16 FMA, in other operations, rebuild TensorFlow with the appropriate compiler flags.\n",
      "Epoch 1: 100%|██████████| 33/33 [00:08<00:00,  4.04it/s]\n"
     ]
    },
    {
     "name": "stdout",
     "output_type": "stream",
     "text": [
      "Epoch 1/15 — Loss: 1.1008, Accuracy: 0.3868\n"
     ]
    },
    {
     "name": "stderr",
     "output_type": "stream",
     "text": [
      "Epoch 2: 100%|██████████| 33/33 [00:08<00:00,  4.12it/s]\n"
     ]
    },
    {
     "name": "stdout",
     "output_type": "stream",
     "text": [
      "Epoch 2/15 — Loss: 0.8248, Accuracy: 0.6589\n"
     ]
    },
    {
     "name": "stderr",
     "output_type": "stream",
     "text": [
      "Epoch 3: 100%|██████████| 33/33 [00:08<00:00,  4.08it/s]\n"
     ]
    },
    {
     "name": "stdout",
     "output_type": "stream",
     "text": [
      "Epoch 3/15 — Loss: 0.6573, Accuracy: 0.7736\n"
     ]
    },
    {
     "name": "stderr",
     "output_type": "stream",
     "text": [
      "Epoch 4: 100%|██████████| 33/33 [00:08<00:00,  4.06it/s]\n"
     ]
    },
    {
     "name": "stdout",
     "output_type": "stream",
     "text": [
      "Epoch 4/15 — Loss: 0.4827, Accuracy: 0.8367\n"
     ]
    },
    {
     "name": "stderr",
     "output_type": "stream",
     "text": [
      "Epoch 5: 100%|██████████| 33/33 [00:08<00:00,  4.04it/s]\n"
     ]
    },
    {
     "name": "stdout",
     "output_type": "stream",
     "text": [
      "Epoch 5/15 — Loss: 0.3937, Accuracy: 0.8717\n"
     ]
    },
    {
     "name": "stderr",
     "output_type": "stream",
     "text": [
      "Epoch 6: 100%|██████████| 33/33 [00:08<00:00,  4.01it/s]\n"
     ]
    },
    {
     "name": "stdout",
     "output_type": "stream",
     "text": [
      "Epoch 6/15 — Loss: 0.2935, Accuracy: 0.9067\n"
     ]
    },
    {
     "name": "stderr",
     "output_type": "stream",
     "text": [
      "Epoch 7: 100%|██████████| 33/33 [00:08<00:00,  3.99it/s]\n"
     ]
    },
    {
     "name": "stdout",
     "output_type": "stream",
     "text": [
      "Epoch 7/15 — Loss: 0.2109, Accuracy: 0.9349\n"
     ]
    },
    {
     "name": "stderr",
     "output_type": "stream",
     "text": [
      "Epoch 8: 100%|██████████| 33/33 [00:08<00:00,  3.99it/s]\n"
     ]
    },
    {
     "name": "stdout",
     "output_type": "stream",
     "text": [
      "Epoch 8/15 — Loss: 0.1788, Accuracy: 0.9436\n"
     ]
    },
    {
     "name": "stderr",
     "output_type": "stream",
     "text": [
      "Epoch 9: 100%|██████████| 33/33 [00:08<00:00,  3.99it/s]\n"
     ]
    },
    {
     "name": "stdout",
     "output_type": "stream",
     "text": [
      "Epoch 9/15 — Loss: 0.1119, Accuracy: 0.9640\n"
     ]
    },
    {
     "name": "stderr",
     "output_type": "stream",
     "text": [
      "Epoch 10: 100%|██████████| 33/33 [00:08<00:00,  3.97it/s]\n"
     ]
    },
    {
     "name": "stdout",
     "output_type": "stream",
     "text": [
      "Epoch 10/15 — Loss: 0.0520, Accuracy: 0.9883\n"
     ]
    },
    {
     "name": "stderr",
     "output_type": "stream",
     "text": [
      "Epoch 11: 100%|██████████| 33/33 [00:08<00:00,  3.97it/s]\n"
     ]
    },
    {
     "name": "stdout",
     "output_type": "stream",
     "text": [
      "Epoch 11/15 — Loss: 0.0353, Accuracy: 0.9874\n"
     ]
    },
    {
     "name": "stderr",
     "output_type": "stream",
     "text": [
      "Epoch 12: 100%|██████████| 33/33 [00:08<00:00,  3.98it/s]\n"
     ]
    },
    {
     "name": "stdout",
     "output_type": "stream",
     "text": [
      "Epoch 12/15 — Loss: 0.0519, Accuracy: 0.9883\n"
     ]
    },
    {
     "name": "stderr",
     "output_type": "stream",
     "text": [
      "Epoch 13: 100%|██████████| 33/33 [00:08<00:00,  3.98it/s]\n"
     ]
    },
    {
     "name": "stdout",
     "output_type": "stream",
     "text": [
      "Epoch 13/15 — Loss: 0.0505, Accuracy: 0.9845\n"
     ]
    },
    {
     "name": "stderr",
     "output_type": "stream",
     "text": [
      "Epoch 14: 100%|██████████| 33/33 [00:08<00:00,  3.97it/s]\n"
     ]
    },
    {
     "name": "stdout",
     "output_type": "stream",
     "text": [
      "Epoch 14/15 — Loss: 0.0205, Accuracy: 0.9932\n"
     ]
    },
    {
     "name": "stderr",
     "output_type": "stream",
     "text": [
      "Epoch 15: 100%|██████████| 33/33 [00:08<00:00,  3.98it/s]"
     ]
    },
    {
     "name": "stdout",
     "output_type": "stream",
     "text": [
      "Epoch 15/15 — Loss: 0.0321, Accuracy: 0.9883\n"
     ]
    },
    {
     "name": "stderr",
     "output_type": "stream",
     "text": [
      "\n"
     ]
    },
    {
     "name": "stdout",
     "output_type": "stream",
     "text": [
      "\n",
      "Test Accuracy: 0.7674418604651163\n",
      "\n",
      "Classification Report:\n",
      "              precision    recall  f1-score   support\n",
      "\n",
      "    Negative       0.77      0.56      0.65        85\n",
      "     Neutral       0.70      0.87      0.78        85\n",
      "    Positive       0.84      0.86      0.85        88\n",
      "\n",
      "    accuracy                           0.77       258\n",
      "   macro avg       0.77      0.77      0.76       258\n",
      "weighted avg       0.77      0.77      0.76       258\n",
      "\n",
      "\n",
      "Confusion Matrix:\n",
      " [[48 27 10]\n",
      " [ 6 74  5]\n",
      " [ 8  4 76]]\n"
     ]
    }
   ],
   "source": [
    "\n",
    "\n",
    "# ——— Project-specific hyperparameters ———\n",
    "MODEL_NAME    = \"xlm-roberta-base\"  # MODIFIED\n",
    "MAX_LEN       = 128\n",
    "BATCH_SIZE    = 32\n",
    "LEARNING_RATE = 3e-5\n",
    "WEIGHT_DECAY  = 0.01\n",
    "EPOCHS        = 15\n",
    "WARMUP_RATIO  = 0.1\n",
    "LABEL_MAP     = {\"Negative\": 0, \"Neutral\": 1, \"Positive\": 2}\n",
    "\n",
    "# ——— Load & preprocess data ———\n",
    "df = pd.read_excel('/home/santhosh/Data Scraping/scource code/TSA codes/TSAC - Telugu Sentiment Analysis Corpus.xlsx')[['Translated_English', 'Label']]\n",
    "df = df.dropna().reset_index(drop=True)\n",
    "df = df[df[\"Label\"].isin(LABEL_MAP)].reset_index(drop=True)\n",
    "df[\"Label\"] = df[\"Label\"].map(LABEL_MAP)\n",
    "\n",
    "# ——— Train/test split ———\n",
    "train_df, test_df = train_test_split(\n",
    "    df,\n",
    "    test_size=0.2,\n",
    "    stratify=df[\"Label\"],\n",
    "    random_state=42\n",
    ")\n",
    "\n",
    "# ——— Dataset class ———\n",
    "class SentimentDataset(Dataset):\n",
    "    def __init__(self, texts, labels, tokenizer, max_len):\n",
    "        self.texts = texts\n",
    "        self.labels = labels\n",
    "        self.tokenizer = tokenizer\n",
    "        self.max_len = max_len\n",
    "\n",
    "    def __len__(self):\n",
    "        return len(self.labels)\n",
    "\n",
    "    def __getitem__(self, idx):\n",
    "        text = str(self.texts[idx])\n",
    "        label = int(self.labels[idx])\n",
    "        enc = self.tokenizer(\n",
    "            text,\n",
    "            padding=\"max_length\",\n",
    "            truncation=True,\n",
    "            max_length=self.max_len,\n",
    "            return_tensors=\"pt\"\n",
    "        )\n",
    "        return {\n",
    "            \"input_ids\": enc[\"input_ids\"].squeeze(0),\n",
    "            \"attention_mask\": enc[\"attention_mask\"].squeeze(0),\n",
    "            \"labels\": torch.tensor(label, dtype=torch.long)\n",
    "        }\n",
    "\n",
    "# ——— Tokenizer & DataLoaders ———\n",
    "tokenizer = AutoTokenizer.from_pretrained(MODEL_NAME)\n",
    "\n",
    "train_ds = SentimentDataset(train_df[\"Translated_English\"].tolist(), train_df[\"Label\"].tolist(), tokenizer, MAX_LEN)\n",
    "test_ds  = SentimentDataset(test_df[\"Translated_English\"].tolist(),  test_df[\"Label\"].tolist(),  tokenizer, MAX_LEN)\n",
    "\n",
    "train_loader = DataLoader(train_ds, batch_size=BATCH_SIZE, shuffle=True, num_workers=2)\n",
    "test_loader  = DataLoader(test_ds,  batch_size=BATCH_SIZE, shuffle=False, num_workers=2)\n",
    "\n",
    "# ——— Model with classifier head ———\n",
    "class XLMRobertaClassifier(nn.Module):\n",
    "    def __init__(self, model_name, n_classes):\n",
    "        super().__init__()\n",
    "        self.base = AutoModel.from_pretrained(model_name)\n",
    "        self.drop = nn.Dropout(0.3)\n",
    "        hidden_size = self.base.config.hidden_size\n",
    "        self.fc = nn.Linear(hidden_size, n_classes)\n",
    "\n",
    "    def forward(self, input_ids, attention_mask):\n",
    "        outputs = self.base(input_ids=input_ids, attention_mask=attention_mask)\n",
    "        # XLM-Roberta has no pooler_output, so use CLS token representation\n",
    "        cls_output = outputs.last_hidden_state[:, 0, :]\n",
    "        x = self.drop(cls_output)\n",
    "        return self.fc(x)\n",
    "\n",
    "device = torch.device(\"cuda\" if torch.cuda.is_available() else \"cpu\")\n",
    "model = XLMRobertaClassifier(MODEL_NAME, n_classes=3).to(device)\n",
    "\n",
    "# ——— Optimizer, Scheduler, Loss ———\n",
    "optimizer = optim.AdamW(model.parameters(), lr=LEARNING_RATE, weight_decay=WEIGHT_DECAY)\n",
    "total_steps = len(train_loader) * EPOCHS\n",
    "warmup_steps = int(WARMUP_RATIO * total_steps)\n",
    "\n",
    "scheduler = optim.lr_scheduler.LinearLR(optimizer, start_factor=0.1, total_iters=warmup_steps)\n",
    "loss_fn = nn.CrossEntropyLoss().to(device)\n",
    "\n",
    "# ——— Training loop ———\n",
    "for epoch in range(1, EPOCHS + 1):\n",
    "    model.train()\n",
    "    total_loss = 0\n",
    "    correct = 0\n",
    "\n",
    "    for batch in tqdm(train_loader, desc=f\"Epoch {epoch}\"):\n",
    "        optimizer.zero_grad()\n",
    "        input_ids = batch[\"input_ids\"].to(device)\n",
    "        attention_mask = batch[\"attention_mask\"].to(device)\n",
    "        labels = batch[\"labels\"].to(device)\n",
    "\n",
    "        logits = model(input_ids, attention_mask)\n",
    "        loss = loss_fn(logits, labels)\n",
    "        loss.backward()\n",
    "        optimizer.step()\n",
    "        scheduler.step()\n",
    "\n",
    "        total_loss += loss.item()\n",
    "        preds = logits.argmax(dim=1)\n",
    "        correct += (preds == labels).sum().item()\n",
    "\n",
    "    avg_loss = total_loss / len(train_loader)\n",
    "    acc = correct / len(train_ds)\n",
    "    print(f\"Epoch {epoch}/{EPOCHS} — Loss: {avg_loss:.4f}, Accuracy: {acc:.4f}\")\n",
    "\n",
    "# ——— Evaluation ———\n",
    "model.eval()\n",
    "all_preds, all_labels = [], []\n",
    "\n",
    "with torch.no_grad():\n",
    "    for batch in test_loader:\n",
    "        input_ids = batch[\"input_ids\"].to(device)\n",
    "        attention_mask = batch[\"attention_mask\"].to(device)\n",
    "        labels = batch[\"labels\"].to(device)\n",
    "\n",
    "        logits = model(input_ids, attention_mask)\n",
    "        preds = logits.argmax(dim=1)\n",
    "\n",
    "        all_preds.extend(preds.cpu().numpy())\n",
    "        all_labels.extend(labels.cpu().numpy())\n",
    "\n",
    "# ——— Metrics ———\n",
    "print(\"\\nTest Accuracy:\", accuracy_score(all_labels, all_preds))\n",
    "print(\"\\nClassification Report:\")\n",
    "print(classification_report(all_labels, all_preds, target_names=[\"Negative\", \"Neutral\", \"Positive\"]))\n",
    "cm = confusion_matrix(all_labels, all_preds, labels=[0, 1, 2])\n",
    "print(\"\\nConfusion Matrix:\\n\", cm)\n"
   ]
  },
  {
   "cell_type": "markdown",
   "id": "898ac18d",
   "metadata": {},
   "source": [
    "## 2. XLM-RoBERTa Embeddings with In-Built Classifier on Original Telugu Comments"
   ]
  },
  {
   "cell_type": "code",
   "execution_count": null,
   "id": "89fa14a9",
   "metadata": {},
   "outputs": [],
   "source": [
    "import os\n",
    "import pandas as pd\n",
    "import numpy as np\n",
    "import torch\n",
    "import torch.nn as nn\n",
    "import torch.optim as optim\n",
    "from torch.utils.data import Dataset, DataLoader\n",
    "from sklearn.model_selection import train_test_split\n",
    "from sklearn.metrics import classification_report, confusion_matrix, accuracy_score\n",
    "from transformers import AutoTokenizer, AutoModel\n",
    "from tqdm import tqdm"
   ]
  },
  {
   "cell_type": "code",
   "execution_count": 2,
   "id": "ff628943",
   "metadata": {},
   "outputs": [
    {
     "name": "stderr",
     "output_type": "stream",
     "text": [
      "Epoch 1: 100%|██████████| 33/33 [00:07<00:00,  4.19it/s]\n"
     ]
    },
    {
     "name": "stdout",
     "output_type": "stream",
     "text": [
      "Epoch 1/10 — Loss: 1.1325, Accuracy: 0.3304\n"
     ]
    },
    {
     "name": "stderr",
     "output_type": "stream",
     "text": [
      "Epoch 2: 100%|██████████| 33/33 [00:07<00:00,  4.19it/s]\n"
     ]
    },
    {
     "name": "stdout",
     "output_type": "stream",
     "text": [
      "Epoch 2/10 — Loss: 0.9549, Accuracy: 0.5685\n"
     ]
    },
    {
     "name": "stderr",
     "output_type": "stream",
     "text": [
      "Epoch 3: 100%|██████████| 33/33 [00:07<00:00,  4.15it/s]\n"
     ]
    },
    {
     "name": "stdout",
     "output_type": "stream",
     "text": [
      "Epoch 3/10 — Loss: 0.8024, Accuracy: 0.6987\n"
     ]
    },
    {
     "name": "stderr",
     "output_type": "stream",
     "text": [
      "Epoch 4: 100%|██████████| 33/33 [00:07<00:00,  4.15it/s]\n"
     ]
    },
    {
     "name": "stdout",
     "output_type": "stream",
     "text": [
      "Epoch 4/10 — Loss: 0.7081, Accuracy: 0.7512\n"
     ]
    },
    {
     "name": "stderr",
     "output_type": "stream",
     "text": [
      "Epoch 5: 100%|██████████| 33/33 [00:07<00:00,  4.14it/s]\n"
     ]
    },
    {
     "name": "stdout",
     "output_type": "stream",
     "text": [
      "Epoch 5/10 — Loss: 0.6535, Accuracy: 0.7464\n"
     ]
    },
    {
     "name": "stderr",
     "output_type": "stream",
     "text": [
      "Epoch 6: 100%|██████████| 33/33 [00:08<00:00,  4.11it/s]\n"
     ]
    },
    {
     "name": "stdout",
     "output_type": "stream",
     "text": [
      "Epoch 6/10 — Loss: 0.5160, Accuracy: 0.8154\n"
     ]
    },
    {
     "name": "stderr",
     "output_type": "stream",
     "text": [
      "Epoch 7: 100%|██████████| 33/33 [00:08<00:00,  4.07it/s]\n"
     ]
    },
    {
     "name": "stdout",
     "output_type": "stream",
     "text": [
      "Epoch 7/10 — Loss: 0.4661, Accuracy: 0.8367\n"
     ]
    },
    {
     "name": "stderr",
     "output_type": "stream",
     "text": [
      "Epoch 8: 100%|██████████| 33/33 [00:08<00:00,  4.06it/s]\n"
     ]
    },
    {
     "name": "stdout",
     "output_type": "stream",
     "text": [
      "Epoch 8/10 — Loss: 0.3186, Accuracy: 0.8950\n"
     ]
    },
    {
     "name": "stderr",
     "output_type": "stream",
     "text": [
      "Epoch 9: 100%|██████████| 33/33 [00:08<00:00,  4.04it/s]\n"
     ]
    },
    {
     "name": "stdout",
     "output_type": "stream",
     "text": [
      "Epoch 9/10 — Loss: 0.3205, Accuracy: 0.8912\n"
     ]
    },
    {
     "name": "stderr",
     "output_type": "stream",
     "text": [
      "Epoch 10: 100%|██████████| 33/33 [00:08<00:00,  4.03it/s]"
     ]
    },
    {
     "name": "stdout",
     "output_type": "stream",
     "text": [
      "Epoch 10/10 — Loss: 0.1945, Accuracy: 0.9407\n"
     ]
    },
    {
     "name": "stderr",
     "output_type": "stream",
     "text": [
      "\n"
     ]
    },
    {
     "name": "stdout",
     "output_type": "stream",
     "text": [
      "\n",
      "Test Accuracy: 0.751937984496124\n",
      "\n",
      "Classification Report:\n",
      "              precision    recall  f1-score   support\n",
      "\n",
      "    Negative       0.67      0.73      0.70        85\n",
      "     Neutral       0.85      0.75      0.80        85\n",
      "    Positive       0.76      0.77      0.76        88\n",
      "\n",
      "    accuracy                           0.75       258\n",
      "   macro avg       0.76      0.75      0.75       258\n",
      "weighted avg       0.76      0.75      0.75       258\n",
      "\n",
      "\n",
      "Confusion Matrix:\n",
      " [[62  8 15]\n",
      " [14 64  7]\n",
      " [17  3 68]]\n"
     ]
    }
   ],
   "source": [
    "\n",
    "\n",
    "# ——— Project-specific hyperparameters ———\n",
    "MODEL_NAME    = \"xlm-roberta-base\"  # MODIFIED\n",
    "MAX_LEN       = 128\n",
    "BATCH_SIZE    = 32\n",
    "LEARNING_RATE = 3e-5\n",
    "WEIGHT_DECAY  = 0.01\n",
    "EPOCHS        = 10\n",
    "WARMUP_RATIO  = 0.1\n",
    "LABEL_MAP     = {\"Negative\": 0, \"Neutral\": 1, \"Positive\": 2}\n",
    "\n",
    "# ——— Load & preprocess data ———\n",
    "df = pd.read_excel('/home/santhosh/Data Scraping/scource code/TSA codes/TSAC - Telugu Sentiment Analysis Corpus.xlsx')[['Statement', 'Label']]\n",
    "df = df.dropna().reset_index(drop=True)\n",
    "df = df[df[\"Label\"].isin(LABEL_MAP)].reset_index(drop=True)\n",
    "df[\"Label\"] = df[\"Label\"].map(LABEL_MAP)\n",
    "\n",
    "# ——— Train/test split ———\n",
    "train_df, test_df = train_test_split(\n",
    "    df,\n",
    "    test_size=0.2,\n",
    "    stratify=df[\"Label\"],\n",
    "    random_state=42\n",
    ")\n",
    "\n",
    "# ——— Dataset class ———\n",
    "class SentimentDataset(Dataset):\n",
    "    def __init__(self, texts, labels, tokenizer, max_len):\n",
    "        self.texts = texts\n",
    "        self.labels = labels\n",
    "        self.tokenizer = tokenizer\n",
    "        self.max_len = max_len\n",
    "\n",
    "    def __len__(self):\n",
    "        return len(self.labels)\n",
    "\n",
    "    def __getitem__(self, idx):\n",
    "        text = str(self.texts[idx])\n",
    "        label = int(self.labels[idx])\n",
    "        enc = self.tokenizer(\n",
    "            text,\n",
    "            padding=\"max_length\",\n",
    "            truncation=True,\n",
    "            max_length=self.max_len,\n",
    "            return_tensors=\"pt\"\n",
    "        )\n",
    "        return {\n",
    "            \"input_ids\": enc[\"input_ids\"].squeeze(0),\n",
    "            \"attention_mask\": enc[\"attention_mask\"].squeeze(0),\n",
    "            \"labels\": torch.tensor(label, dtype=torch.long)\n",
    "        }\n",
    "\n",
    "# ——— Tokenizer & DataLoaders ———\n",
    "tokenizer = AutoTokenizer.from_pretrained(MODEL_NAME)\n",
    "\n",
    "train_ds = SentimentDataset(train_df[\"Statement\"].tolist(), train_df[\"Label\"].tolist(), tokenizer, MAX_LEN)\n",
    "test_ds  = SentimentDataset(test_df[\"Statement\"].tolist(),  test_df[\"Label\"].tolist(),  tokenizer, MAX_LEN)\n",
    "\n",
    "train_loader = DataLoader(train_ds, batch_size=BATCH_SIZE, shuffle=True, num_workers=2)\n",
    "test_loader  = DataLoader(test_ds,  batch_size=BATCH_SIZE, shuffle=False, num_workers=2)\n",
    "\n",
    "# ——— Model with classifier head ———\n",
    "class XLMRobertaClassifier(nn.Module):\n",
    "    def __init__(self, model_name, n_classes):\n",
    "        super().__init__()\n",
    "        self.base = AutoModel.from_pretrained(model_name)\n",
    "        self.drop = nn.Dropout(0.3)\n",
    "        hidden_size = self.base.config.hidden_size\n",
    "        self.fc = nn.Linear(hidden_size, n_classes)\n",
    "\n",
    "    def forward(self, input_ids, attention_mask):\n",
    "        outputs = self.base(input_ids=input_ids, attention_mask=attention_mask)\n",
    "        # XLM-Roberta has no pooler_output, so use CLS token representation\n",
    "        cls_output = outputs.last_hidden_state[:, 0, :]\n",
    "        x = self.drop(cls_output)\n",
    "        return self.fc(x)\n",
    "\n",
    "device = torch.device(\"cuda\" if torch.cuda.is_available() else \"cpu\")\n",
    "model = XLMRobertaClassifier(MODEL_NAME, n_classes=3).to(device)\n",
    "\n",
    "# ——— Optimizer, Scheduler, Loss ———\n",
    "optimizer = optim.AdamW(model.parameters(), lr=LEARNING_RATE, weight_decay=WEIGHT_DECAY)\n",
    "total_steps = len(train_loader) * EPOCHS\n",
    "warmup_steps = int(WARMUP_RATIO * total_steps)\n",
    "\n",
    "scheduler = optim.lr_scheduler.LinearLR(optimizer, start_factor=0.1, total_iters=warmup_steps)\n",
    "loss_fn = nn.CrossEntropyLoss().to(device)\n",
    "\n",
    "# ——— Training loop ———\n",
    "for epoch in range(1, EPOCHS + 1):\n",
    "    model.train()\n",
    "    total_loss = 0\n",
    "    correct = 0\n",
    "\n",
    "    for batch in tqdm(train_loader, desc=f\"Epoch {epoch}\"):\n",
    "        optimizer.zero_grad()\n",
    "        input_ids = batch[\"input_ids\"].to(device)\n",
    "        attention_mask = batch[\"attention_mask\"].to(device)\n",
    "        labels = batch[\"labels\"].to(device)\n",
    "\n",
    "        logits = model(input_ids, attention_mask)\n",
    "        loss = loss_fn(logits, labels)\n",
    "        loss.backward()\n",
    "        optimizer.step()\n",
    "        scheduler.step()\n",
    "\n",
    "        total_loss += loss.item()\n",
    "        preds = logits.argmax(dim=1)\n",
    "        correct += (preds == labels).sum().item()\n",
    "\n",
    "    avg_loss = total_loss / len(train_loader)\n",
    "    acc = correct / len(train_ds)\n",
    "    print(f\"Epoch {epoch}/{EPOCHS} — Loss: {avg_loss:.4f}, Accuracy: {acc:.4f}\")\n",
    "\n",
    "# ——— Evaluation ———\n",
    "model.eval()\n",
    "all_preds, all_labels = [], []\n",
    "\n",
    "with torch.no_grad():\n",
    "    for batch in test_loader:\n",
    "        input_ids = batch[\"input_ids\"].to(device)\n",
    "        attention_mask = batch[\"attention_mask\"].to(device)\n",
    "        labels = batch[\"labels\"].to(device)\n",
    "\n",
    "        logits = model(input_ids, attention_mask)\n",
    "        preds = logits.argmax(dim=1)\n",
    "\n",
    "        all_preds.extend(preds.cpu().numpy())\n",
    "        all_labels.extend(labels.cpu().numpy())\n",
    "\n",
    "# ——— Metrics ———\n",
    "print(\"\\nTest Accuracy:\", accuracy_score(all_labels, all_preds))\n",
    "print(\"\\nClassification Report:\")\n",
    "print(classification_report(all_labels, all_preds, target_names=[\"Negative\", \"Neutral\", \"Positive\"]))\n",
    "cm = confusion_matrix(all_labels, all_preds, labels=[0, 1, 2])\n",
    "print(\"\\nConfusion Matrix:\\n\", cm)\n"
   ]
  },
  {
   "cell_type": "markdown",
   "id": "a42f1b46",
   "metadata": {},
   "source": [
    "## 3. Generate and Save XLM-RoBERTa Embeddings to a CSV File"
   ]
  },
  {
   "cell_type": "code",
   "execution_count": null,
   "id": "86ac913f",
   "metadata": {},
   "outputs": [],
   "source": [
    "import pandas as pd\n",
    "import numpy as np\n",
    "import torch\n",
    "from transformers import AutoTokenizer, AutoModel\n",
    "from tqdm import tqdm\n",
    "import os\n",
    "from sklearn.model_selection import train_test_split, GridSearchCV\n",
    "from sklearn.preprocessing import LabelEncoder\n",
    "from sklearn.svm import SVC\n",
    "from sklearn.ensemble import RandomForestClassifier\n",
    "from sklearn.linear_model import LogisticRegression\n",
    "from sklearn.neighbors import KNeighborsClassifier\n",
    "from xgboost import XGBClassifier\n",
    "from sklearn.metrics import accuracy_score, classification_report, confusion_matrix"
   ]
  },
  {
   "cell_type": "code",
   "execution_count": 9,
   "id": "f57a0da5",
   "metadata": {},
   "outputs": [
    {
     "name": "stderr",
     "output_type": "stream",
     "text": [
      "Extracting XLM-Roberta embeddings: 100%|██████████| 1287/1287 [00:05<00:00, 215.70it/s]\n"
     ]
    },
    {
     "name": "stdout",
     "output_type": "stream",
     "text": [
      "✅ Embeddings saved to /home/santhosh/Data Scraping/scource code/TSA codes/TL_telugu_xlmroberta_embeddings.csv\n"
     ]
    }
   ],
   "source": [
    "\n",
    "# Parameters\n",
    "MODEL_NAME = \"xlm-roberta-base\"\n",
    "MAX_LEN = 128\n",
    "LABEL_MAP = {\"Negative\": 0, \"Neutral\": 1, \"Positive\": 2}\n",
    "\n",
    "# Load Data\n",
    "df = pd.read_excel('/home/santhosh/Data Scraping/scource code/TSA codes/TSAC - Telugu Sentiment Analysis Corpus.xlsx')[['Statement', 'Label']]\n",
    "df = df.dropna()\n",
    "df = df[df[\"Label\"].isin(LABEL_MAP)]\n",
    "df[\"Label\"] = df[\"Label\"].map(LABEL_MAP).astype(int)\n",
    "df = df.reset_index(drop=True)\n",
    "\n",
    "# Tokenizer & Model\n",
    "tokenizer = AutoTokenizer.from_pretrained(MODEL_NAME)\n",
    "model = AutoModel.from_pretrained(MODEL_NAME)\n",
    "model.eval()\n",
    "device = torch.device(\"cuda\" if torch.cuda.is_available() else \"cpu\")\n",
    "model.to(device)\n",
    "\n",
    "# Embedding extraction\n",
    "def get_embeddings(texts):\n",
    "    embeddings = []\n",
    "    with torch.no_grad():\n",
    "        for text in tqdm(texts, desc=\"Extracting XLM-Roberta embeddings\"):\n",
    "            encoded = tokenizer(text, return_tensors=\"pt\", truncation=True, padding=\"max_length\", max_length=MAX_LEN)\n",
    "            input_ids = encoded['input_ids'].to(device)\n",
    "            attention_mask = encoded['attention_mask'].to(device)\n",
    "            outputs = model(input_ids=input_ids, attention_mask=attention_mask)\n",
    "            cls_embedding = outputs.last_hidden_state[:, 0, :].cpu().numpy()[0]  # CLS token\n",
    "            embeddings.append(cls_embedding)\n",
    "    return np.array(embeddings)\n",
    "\n",
    "# Extract and save\n",
    "embeddings = get_embeddings(df[\"Statement\"].tolist())\n",
    "emb_df = pd.DataFrame(embeddings)\n",
    "emb_df[\"Label\"] = df[\"Label\"].values\n",
    "\n",
    "save_path = \"/home/santhosh/Data Scraping/scource code/TSA codes/TL_telugu_xlmroberta_embeddings.csv\"\n",
    "emb_df.to_csv(save_path, index=False)\n",
    "print(f\"✅ Embeddings saved to {save_path}\")\n"
   ]
  },
  {
   "cell_type": "markdown",
   "id": "9d9d9279",
   "metadata": {},
   "source": [
    "## 4. Load Saved Embeddings and Apply Traditional ML Classifiers on Translated English Comment"
   ]
  },
  {
   "cell_type": "code",
   "execution_count": 8,
   "id": "7c177800",
   "metadata": {},
   "outputs": [
    {
     "name": "stdout",
     "output_type": "stream",
     "text": [
      "\n",
      "🔍 Classifier: SVM\n",
      "Best Parameters: {'C': 1, 'kernel': 'linear'}\n",
      "Accuracy: 0.7286821705426356\n",
      "Classification Report:\n",
      "               precision    recall  f1-score   support\n",
      "\n",
      "    Negative       0.61      0.80      0.69        85\n",
      "     Neutral       0.80      0.72      0.76        85\n",
      "    Positive       0.83      0.67      0.74        88\n",
      "\n",
      "    accuracy                           0.73       258\n",
      "   macro avg       0.75      0.73      0.73       258\n",
      "weighted avg       0.75      0.73      0.73       258\n",
      "\n",
      "Confusion Matrix:\n",
      " [[68 10  7]\n",
      " [19 61  5]\n",
      " [24  5 59]]\n",
      "\n",
      "🔍 Classifier: RandomForest\n",
      "Best Parameters: {'max_depth': 10, 'n_estimators': 200}\n",
      "Accuracy: 0.6937984496124031\n",
      "Classification Report:\n",
      "               precision    recall  f1-score   support\n",
      "\n",
      "    Negative       0.60      0.68      0.64        85\n",
      "     Neutral       0.78      0.71      0.74        85\n",
      "    Positive       0.73      0.69      0.71        88\n",
      "\n",
      "    accuracy                           0.69       258\n",
      "   macro avg       0.70      0.69      0.70       258\n",
      "weighted avg       0.70      0.69      0.70       258\n",
      "\n",
      "Confusion Matrix:\n",
      " [[58 13 14]\n",
      " [16 60  9]\n",
      " [23  4 61]]\n",
      "\n",
      "🔍 Classifier: LogisticRegression\n",
      "Best Parameters: {'C': 1}\n",
      "Accuracy: 0.7286821705426356\n",
      "Classification Report:\n",
      "               precision    recall  f1-score   support\n",
      "\n",
      "    Negative       0.63      0.73      0.68        85\n",
      "     Neutral       0.76      0.75      0.76        85\n",
      "    Positive       0.82      0.70      0.76        88\n",
      "\n",
      "    accuracy                           0.73       258\n",
      "   macro avg       0.74      0.73      0.73       258\n",
      "weighted avg       0.74      0.73      0.73       258\n",
      "\n",
      "Confusion Matrix:\n",
      " [[62 14  9]\n",
      " [16 64  5]\n",
      " [20  6 62]]\n",
      "\n",
      "🔍 Classifier: KNN\n",
      "Best Parameters: {'n_neighbors': 3}\n",
      "Accuracy: 0.6085271317829457\n",
      "Classification Report:\n",
      "               precision    recall  f1-score   support\n",
      "\n",
      "    Negative       0.48      0.62      0.54        85\n",
      "     Neutral       0.73      0.61      0.67        85\n",
      "    Positive       0.68      0.59      0.63        88\n",
      "\n",
      "    accuracy                           0.61       258\n",
      "   macro avg       0.63      0.61      0.61       258\n",
      "weighted avg       0.63      0.61      0.61       258\n",
      "\n",
      "Confusion Matrix:\n",
      " [[53 16 16]\n",
      " [24 52  9]\n",
      " [33  3 52]]\n",
      "\n",
      "🔍 Classifier: XGBoost\n"
     ]
    },
    {
     "name": "stderr",
     "output_type": "stream",
     "text": [
      "/opt/anaconda3/lib/python3.12/site-packages/xgboost/core.py:158: UserWarning: [10:26:07] WARNING: /workspace/src/learner.cc:740: \n",
      "Parameters: { \"use_label_encoder\" } are not used.\n",
      "\n",
      "  warnings.warn(smsg, UserWarning)\n",
      "/opt/anaconda3/lib/python3.12/site-packages/xgboost/core.py:158: UserWarning: [10:26:07] WARNING: /workspace/src/learner.cc:740: \n",
      "Parameters: { \"use_label_encoder\" } are not used.\n",
      "\n",
      "  warnings.warn(smsg, UserWarning)\n",
      "/opt/anaconda3/lib/python3.12/site-packages/xgboost/core.py:158: UserWarning: [10:26:07] WARNING: /workspace/src/learner.cc:740: \n",
      "Parameters: { \"use_label_encoder\" } are not used.\n",
      "\n",
      "  warnings.warn(smsg, UserWarning)\n",
      "/opt/anaconda3/lib/python3.12/site-packages/xgboost/core.py:158: UserWarning: [10:26:07] WARNING: /workspace/src/learner.cc:740: \n",
      "Parameters: { \"use_label_encoder\" } are not used.\n",
      "\n",
      "  warnings.warn(smsg, UserWarning)\n",
      "/opt/anaconda3/lib/python3.12/site-packages/xgboost/core.py:158: UserWarning: [10:26:07] WARNING: /workspace/src/learner.cc:740: \n",
      "Parameters: { \"use_label_encoder\" } are not used.\n",
      "\n",
      "  warnings.warn(smsg, UserWarning)\n",
      "/opt/anaconda3/lib/python3.12/site-packages/xgboost/core.py:158: UserWarning: [10:26:07] WARNING: /workspace/src/learner.cc:740: \n",
      "Parameters: { \"use_label_encoder\" } are not used.\n",
      "\n",
      "  warnings.warn(smsg, UserWarning)\n",
      "/opt/anaconda3/lib/python3.12/site-packages/xgboost/core.py:158: UserWarning: [10:26:07] WARNING: /workspace/src/learner.cc:740: \n",
      "Parameters: { \"use_label_encoder\" } are not used.\n",
      "\n",
      "  warnings.warn(smsg, UserWarning)\n",
      "/opt/anaconda3/lib/python3.12/site-packages/xgboost/core.py:158: UserWarning: [10:26:11] WARNING: /workspace/src/learner.cc:740: \n",
      "Parameters: { \"use_label_encoder\" } are not used.\n",
      "\n",
      "  warnings.warn(smsg, UserWarning)\n",
      "/opt/anaconda3/lib/python3.12/site-packages/xgboost/core.py:158: UserWarning: [10:26:11] WARNING: /workspace/src/learner.cc:740: \n",
      "Parameters: { \"use_label_encoder\" } are not used.\n",
      "\n",
      "  warnings.warn(smsg, UserWarning)\n",
      "/opt/anaconda3/lib/python3.12/site-packages/xgboost/core.py:158: UserWarning: [10:26:11] WARNING: /workspace/src/learner.cc:740: \n",
      "Parameters: { \"use_label_encoder\" } are not used.\n",
      "\n",
      "  warnings.warn(smsg, UserWarning)\n",
      "/opt/anaconda3/lib/python3.12/site-packages/xgboost/core.py:158: UserWarning: [10:26:11] WARNING: /workspace/src/learner.cc:740: \n",
      "Parameters: { \"use_label_encoder\" } are not used.\n",
      "\n",
      "  warnings.warn(smsg, UserWarning)\n",
      "/opt/anaconda3/lib/python3.12/site-packages/xgboost/core.py:158: UserWarning: [10:26:11] WARNING: /workspace/src/learner.cc:740: \n",
      "Parameters: { \"use_label_encoder\" } are not used.\n",
      "\n",
      "  warnings.warn(smsg, UserWarning)\n",
      "/opt/anaconda3/lib/python3.12/site-packages/xgboost/core.py:158: UserWarning: [10:26:11] WARNING: /workspace/src/learner.cc:740: \n",
      "Parameters: { \"use_label_encoder\" } are not used.\n",
      "\n",
      "  warnings.warn(smsg, UserWarning)\n",
      "/opt/anaconda3/lib/python3.12/site-packages/xgboost/core.py:158: UserWarning: [10:26:12] WARNING: /workspace/src/learner.cc:740: \n",
      "Parameters: { \"use_label_encoder\" } are not used.\n",
      "\n",
      "  warnings.warn(smsg, UserWarning)\n",
      "/opt/anaconda3/lib/python3.12/site-packages/xgboost/core.py:158: UserWarning: [10:26:12] WARNING: /workspace/src/learner.cc:740: \n",
      "Parameters: { \"use_label_encoder\" } are not used.\n",
      "\n",
      "  warnings.warn(smsg, UserWarning)\n",
      "/opt/anaconda3/lib/python3.12/site-packages/xgboost/core.py:158: UserWarning: [10:26:12] WARNING: /workspace/src/learner.cc:740: \n",
      "Parameters: { \"use_label_encoder\" } are not used.\n",
      "\n",
      "  warnings.warn(smsg, UserWarning)\n",
      "/opt/anaconda3/lib/python3.12/site-packages/xgboost/core.py:158: UserWarning: [10:26:12] WARNING: /workspace/src/learner.cc:740: \n",
      "Parameters: { \"use_label_encoder\" } are not used.\n",
      "\n",
      "  warnings.warn(smsg, UserWarning)\n",
      "/opt/anaconda3/lib/python3.12/site-packages/xgboost/core.py:158: UserWarning: [10:26:12] WARNING: /workspace/src/learner.cc:740: \n",
      "Parameters: { \"use_label_encoder\" } are not used.\n",
      "\n",
      "  warnings.warn(smsg, UserWarning)\n",
      "/opt/anaconda3/lib/python3.12/site-packages/xgboost/core.py:158: UserWarning: [10:26:12] WARNING: /workspace/src/learner.cc:740: \n",
      "Parameters: { \"use_label_encoder\" } are not used.\n",
      "\n",
      "  warnings.warn(smsg, UserWarning)\n",
      "/opt/anaconda3/lib/python3.12/site-packages/xgboost/core.py:158: UserWarning: [10:26:12] WARNING: /workspace/src/learner.cc:740: \n",
      "Parameters: { \"use_label_encoder\" } are not used.\n",
      "\n",
      "  warnings.warn(smsg, UserWarning)\n",
      "/opt/anaconda3/lib/python3.12/site-packages/xgboost/core.py:158: UserWarning: [10:28:21] WARNING: /workspace/src/learner.cc:740: \n",
      "Parameters: { \"use_label_encoder\" } are not used.\n",
      "\n",
      "  warnings.warn(smsg, UserWarning)\n"
     ]
    },
    {
     "name": "stdout",
     "output_type": "stream",
     "text": [
      "Best Parameters: {'max_depth': 3, 'n_estimators': 200}\n",
      "Accuracy: 0.7403100775193798\n",
      "Classification Report:\n",
      "               precision    recall  f1-score   support\n",
      "\n",
      "    Negative       0.62      0.76      0.68        85\n",
      "     Neutral       0.81      0.75      0.78        85\n",
      "    Positive       0.84      0.70      0.77        88\n",
      "\n",
      "    accuracy                           0.74       258\n",
      "   macro avg       0.76      0.74      0.74       258\n",
      "weighted avg       0.76      0.74      0.74       258\n",
      "\n",
      "Confusion Matrix:\n",
      " [[65 12  8]\n",
      " [17 64  4]\n",
      " [23  3 62]]\n"
     ]
    }
   ],
   "source": [
    "save_path = \"/home/santhosh/Data Scraping/scource code/TSA codes/TL_english_xlmroberta_embeddings.csv\"\n",
    "\n",
    "# Load saved embeddings\n",
    "df = pd.read_csv(save_path)\n",
    "X = df.drop(columns=[\"Label\"]).values\n",
    "y = df[\"Label\"].values\n",
    "\n",
    "# Split\n",
    "X_train, X_test, y_train, y_test = train_test_split(X, y, test_size=0.2, stratify=y, random_state=42)\n",
    "\n",
    "# Classifier dictionary with GridSearch params\n",
    "classifiers = {\n",
    "    \"SVM\": (SVC(), {\"C\": [0.1, 1], \"kernel\": [\"linear\", \"rbf\"]}),\n",
    "    \"RandomForest\": (RandomForestClassifier(), {\"n_estimators\": [100, 200], \"max_depth\": [None, 10]}),\n",
    "    \"LogisticRegression\": (LogisticRegression(max_iter=1000), {\"C\": [0.1, 1]}),\n",
    "    \"KNN\": (KNeighborsClassifier(), {\"n_neighbors\": [3, 5]}),\n",
    "    \"XGBoost\": (XGBClassifier(use_label_encoder=False, eval_metric='logloss'), {\"n_estimators\": [100, 200], \"max_depth\": [3, 6]})\n",
    "}\n",
    "\n",
    "# Train and evaluate\n",
    "for name, (clf, params) in classifiers.items():\n",
    "    print(f\"\\n🔍 Classifier: {name}\")\n",
    "    grid = GridSearchCV(clf, params, scoring=\"f1_weighted\", cv=5, n_jobs=-1)\n",
    "    grid.fit(X_train, y_train)\n",
    "    best_model = grid.best_estimator_\n",
    "    y_pred = best_model.predict(X_test)\n",
    "\n",
    "    print(f\"Best Parameters: {grid.best_params_}\")\n",
    "    print(\"Accuracy:\", accuracy_score(y_test, y_pred))\n",
    "    print(\"Classification Report:\\n\", classification_report(y_test, y_pred, target_names=LABEL_MAP.keys()))\n",
    "    print(\"Confusion Matrix:\\n\", confusion_matrix(y_test, y_pred))\n"
   ]
  },
  {
   "cell_type": "markdown",
   "id": "1fd95295",
   "metadata": {},
   "source": [
    "## 5. Load Saved Embeddings and Apply Traditional ML Classifiers on Original Telugu Comments"
   ]
  },
  {
   "cell_type": "code",
   "execution_count": 10,
   "id": "0a6c1fac",
   "metadata": {},
   "outputs": [
    {
     "name": "stdout",
     "output_type": "stream",
     "text": [
      "\n",
      "🔍 Classifier: SVM\n",
      "Best Parameters: {'C': 1, 'kernel': 'linear'}\n",
      "Accuracy: 0.689922480620155\n",
      "Classification Report:\n",
      "               precision    recall  f1-score   support\n",
      "\n",
      "    Negative       0.57      0.76      0.65        85\n",
      "     Neutral       0.80      0.69      0.74        85\n",
      "    Positive       0.77      0.61      0.68        88\n",
      "\n",
      "    accuracy                           0.69       258\n",
      "   macro avg       0.71      0.69      0.69       258\n",
      "weighted avg       0.71      0.69      0.69       258\n",
      "\n",
      "Confusion Matrix:\n",
      " [[65 10 10]\n",
      " [20 59  6]\n",
      " [29  5 54]]\n",
      "\n",
      "🔍 Classifier: RandomForest\n",
      "Best Parameters: {'max_depth': None, 'n_estimators': 200}\n",
      "Accuracy: 0.6589147286821705\n",
      "Classification Report:\n",
      "               precision    recall  f1-score   support\n",
      "\n",
      "    Negative       0.56      0.64      0.60        85\n",
      "     Neutral       0.73      0.73      0.73        85\n",
      "    Positive       0.70      0.61      0.65        88\n",
      "\n",
      "    accuracy                           0.66       258\n",
      "   macro avg       0.66      0.66      0.66       258\n",
      "weighted avg       0.66      0.66      0.66       258\n",
      "\n",
      "Confusion Matrix:\n",
      " [[54 17 14]\n",
      " [14 62  9]\n",
      " [28  6 54]]\n",
      "\n",
      "🔍 Classifier: LogisticRegression\n",
      "Best Parameters: {'C': 1}\n",
      "Accuracy: 0.6744186046511628\n",
      "Classification Report:\n",
      "               precision    recall  f1-score   support\n",
      "\n",
      "    Negative       0.56      0.66      0.61        85\n",
      "     Neutral       0.74      0.72      0.73        85\n",
      "    Positive       0.75      0.65      0.70        88\n",
      "\n",
      "    accuracy                           0.67       258\n",
      "   macro avg       0.68      0.67      0.68       258\n",
      "weighted avg       0.69      0.67      0.68       258\n",
      "\n",
      "Confusion Matrix:\n",
      " [[56 16 13]\n",
      " [18 61  6]\n",
      " [26  5 57]]\n",
      "\n",
      "🔍 Classifier: KNN\n",
      "Best Parameters: {'n_neighbors': 5}\n",
      "Accuracy: 0.5930232558139535\n",
      "Classification Report:\n",
      "               precision    recall  f1-score   support\n",
      "\n",
      "    Negative       0.51      0.59      0.55        85\n",
      "     Neutral       0.66      0.76      0.71        85\n",
      "    Positive       0.61      0.43      0.51        88\n",
      "\n",
      "    accuracy                           0.59       258\n",
      "   macro avg       0.60      0.59      0.59       258\n",
      "weighted avg       0.60      0.59      0.59       258\n",
      "\n",
      "Confusion Matrix:\n",
      " [[50 19 16]\n",
      " [12 65  8]\n",
      " [36 14 38]]\n",
      "\n",
      "🔍 Classifier: XGBoost\n"
     ]
    },
    {
     "name": "stderr",
     "output_type": "stream",
     "text": [
      "/opt/anaconda3/lib/python3.12/site-packages/xgboost/core.py:158: UserWarning: [10:31:25] WARNING: /workspace/src/learner.cc:740: \n",
      "Parameters: { \"use_label_encoder\" } are not used.\n",
      "\n",
      "  warnings.warn(smsg, UserWarning)\n",
      "/opt/anaconda3/lib/python3.12/site-packages/xgboost/core.py:158: UserWarning: [10:31:25] WARNING: /workspace/src/learner.cc:740: \n",
      "Parameters: { \"use_label_encoder\" } are not used.\n",
      "\n",
      "  warnings.warn(smsg, UserWarning)\n",
      "/opt/anaconda3/lib/python3.12/site-packages/xgboost/core.py:158: UserWarning: [10:31:25] WARNING: /workspace/src/learner.cc:740: \n",
      "Parameters: { \"use_label_encoder\" } are not used.\n",
      "\n",
      "  warnings.warn(smsg, UserWarning)\n",
      "/opt/anaconda3/lib/python3.12/site-packages/xgboost/core.py:158: UserWarning: [10:31:25] WARNING: /workspace/src/learner.cc:740: \n",
      "Parameters: { \"use_label_encoder\" } are not used.\n",
      "\n",
      "  warnings.warn(smsg, UserWarning)\n",
      "/opt/anaconda3/lib/python3.12/site-packages/xgboost/core.py:158: UserWarning: [10:31:25] WARNING: /workspace/src/learner.cc:740: \n",
      "Parameters: { \"use_label_encoder\" } are not used.\n",
      "\n",
      "  warnings.warn(smsg, UserWarning)\n",
      "/opt/anaconda3/lib/python3.12/site-packages/xgboost/core.py:158: UserWarning: [10:31:25] WARNING: /workspace/src/learner.cc:740: \n",
      "Parameters: { \"use_label_encoder\" } are not used.\n",
      "\n",
      "  warnings.warn(smsg, UserWarning)\n",
      "/opt/anaconda3/lib/python3.12/site-packages/xgboost/core.py:158: UserWarning: [10:31:25] WARNING: /workspace/src/learner.cc:740: \n",
      "Parameters: { \"use_label_encoder\" } are not used.\n",
      "\n",
      "  warnings.warn(smsg, UserWarning)\n",
      "/opt/anaconda3/lib/python3.12/site-packages/xgboost/core.py:158: UserWarning: [10:31:25] WARNING: /workspace/src/learner.cc:740: \n",
      "Parameters: { \"use_label_encoder\" } are not used.\n",
      "\n",
      "  warnings.warn(smsg, UserWarning)\n",
      "/opt/anaconda3/lib/python3.12/site-packages/xgboost/core.py:158: UserWarning: [10:31:25] WARNING: /workspace/src/learner.cc:740: \n",
      "Parameters: { \"use_label_encoder\" } are not used.\n",
      "\n",
      "  warnings.warn(smsg, UserWarning)\n",
      "/opt/anaconda3/lib/python3.12/site-packages/xgboost/core.py:158: UserWarning: [10:31:25] WARNING: /workspace/src/learner.cc:740: \n",
      "Parameters: { \"use_label_encoder\" } are not used.\n",
      "\n",
      "  warnings.warn(smsg, UserWarning)\n",
      "/opt/anaconda3/lib/python3.12/site-packages/xgboost/core.py:158: UserWarning: [10:31:25] WARNING: /workspace/src/learner.cc:740: \n",
      "Parameters: { \"use_label_encoder\" } are not used.\n",
      "\n",
      "  warnings.warn(smsg, UserWarning)\n",
      "/opt/anaconda3/lib/python3.12/site-packages/xgboost/core.py:158: UserWarning: [10:31:25] WARNING: /workspace/src/learner.cc:740: \n",
      "Parameters: { \"use_label_encoder\" } are not used.\n",
      "\n",
      "  warnings.warn(smsg, UserWarning)\n",
      "/opt/anaconda3/lib/python3.12/site-packages/xgboost/core.py:158: UserWarning: [10:31:25] WARNING: /workspace/src/learner.cc:740: \n",
      "Parameters: { \"use_label_encoder\" } are not used.\n",
      "\n",
      "  warnings.warn(smsg, UserWarning)\n",
      "/opt/anaconda3/lib/python3.12/site-packages/xgboost/core.py:158: UserWarning: [10:31:25] WARNING: /workspace/src/learner.cc:740: \n",
      "Parameters: { \"use_label_encoder\" } are not used.\n",
      "\n",
      "  warnings.warn(smsg, UserWarning)\n",
      "/opt/anaconda3/lib/python3.12/site-packages/xgboost/core.py:158: UserWarning: [10:31:29] WARNING: /workspace/src/learner.cc:740: \n",
      "Parameters: { \"use_label_encoder\" } are not used.\n",
      "\n",
      "  warnings.warn(smsg, UserWarning)\n",
      "/opt/anaconda3/lib/python3.12/site-packages/xgboost/core.py:158: UserWarning: [10:31:29] WARNING: /workspace/src/learner.cc:740: \n",
      "Parameters: { \"use_label_encoder\" } are not used.\n",
      "\n",
      "  warnings.warn(smsg, UserWarning)\n",
      "/opt/anaconda3/lib/python3.12/site-packages/xgboost/core.py:158: UserWarning: [10:31:29] WARNING: /workspace/src/learner.cc:740: \n",
      "Parameters: { \"use_label_encoder\" } are not used.\n",
      "\n",
      "  warnings.warn(smsg, UserWarning)\n",
      "/opt/anaconda3/lib/python3.12/site-packages/xgboost/core.py:158: UserWarning: [10:31:29] WARNING: /workspace/src/learner.cc:740: \n",
      "Parameters: { \"use_label_encoder\" } are not used.\n",
      "\n",
      "  warnings.warn(smsg, UserWarning)\n",
      "/opt/anaconda3/lib/python3.12/site-packages/xgboost/core.py:158: UserWarning: [10:31:30] WARNING: /workspace/src/learner.cc:740: \n",
      "Parameters: { \"use_label_encoder\" } are not used.\n",
      "\n",
      "  warnings.warn(smsg, UserWarning)\n",
      "/opt/anaconda3/lib/python3.12/site-packages/xgboost/core.py:158: UserWarning: [10:31:30] WARNING: /workspace/src/learner.cc:740: \n",
      "Parameters: { \"use_label_encoder\" } are not used.\n",
      "\n",
      "  warnings.warn(smsg, UserWarning)\n",
      "/opt/anaconda3/lib/python3.12/site-packages/xgboost/core.py:158: UserWarning: [10:33:41] WARNING: /workspace/src/learner.cc:740: \n",
      "Parameters: { \"use_label_encoder\" } are not used.\n",
      "\n",
      "  warnings.warn(smsg, UserWarning)\n"
     ]
    },
    {
     "name": "stdout",
     "output_type": "stream",
     "text": [
      "Best Parameters: {'max_depth': 3, 'n_estimators': 200}\n",
      "Accuracy: 0.7248062015503876\n",
      "Classification Report:\n",
      "               precision    recall  f1-score   support\n",
      "\n",
      "    Negative       0.64      0.69      0.67        85\n",
      "     Neutral       0.78      0.81      0.79        85\n",
      "    Positive       0.77      0.67      0.72        88\n",
      "\n",
      "    accuracy                           0.72       258\n",
      "   macro avg       0.73      0.73      0.72       258\n",
      "weighted avg       0.73      0.72      0.72       258\n",
      "\n",
      "Confusion Matrix:\n",
      " [[59 13 13]\n",
      " [11 69  5]\n",
      " [22  7 59]]\n"
     ]
    }
   ],
   "source": [
    "save_path = \"/home/santhosh/Data Scraping/scource code/TSA codes/TL_telugu_xlmroberta_embeddings.csv\"\n",
    "\n",
    "# Load saved embeddings\n",
    "df = pd.read_csv(save_path)\n",
    "X = df.drop(columns=[\"Label\"]).values\n",
    "y = df[\"Label\"].values\n",
    "\n",
    "# Split\n",
    "X_train, X_test, y_train, y_test = train_test_split(X, y, test_size=0.2, stratify=y, random_state=42)\n",
    "\n",
    "# Classifier dictionary with GridSearch params\n",
    "classifiers = {\n",
    "    \"SVM\": (SVC(), {\"C\": [0.1, 1], \"kernel\": [\"linear\", \"rbf\"]}),\n",
    "    \"RandomForest\": (RandomForestClassifier(), {\"n_estimators\": [100, 200], \"max_depth\": [None, 10]}),\n",
    "    \"LogisticRegression\": (LogisticRegression(max_iter=1000), {\"C\": [0.1, 1]}),\n",
    "    \"KNN\": (KNeighborsClassifier(), {\"n_neighbors\": [3, 5]}),\n",
    "    \"XGBoost\": (XGBClassifier(use_label_encoder=False, eval_metric='logloss'), {\"n_estimators\": [100, 200], \"max_depth\": [3, 6]})\n",
    "}\n",
    "\n",
    "# Train and evaluate\n",
    "for name, (clf, params) in classifiers.items():\n",
    "    print(f\"\\n🔍 Classifier: {name}\")\n",
    "    grid = GridSearchCV(clf, params, scoring=\"f1_weighted\", cv=5, n_jobs=-1)\n",
    "    grid.fit(X_train, y_train)\n",
    "    best_model = grid.best_estimator_\n",
    "    y_pred = best_model.predict(X_test)\n",
    "\n",
    "    print(f\"Best Parameters: {grid.best_params_}\")\n",
    "    print(\"Accuracy:\", accuracy_score(y_test, y_pred))\n",
    "    print(\"Classification Report:\\n\", classification_report(y_test, y_pred, target_names=LABEL_MAP.keys()))\n",
    "    print(\"Confusion Matrix:\\n\", confusion_matrix(y_test, y_pred))\n"
   ]
  }
 ],
 "metadata": {
  "kernelspec": {
   "display_name": "base",
   "language": "python",
   "name": "python3"
  },
  "language_info": {
   "codemirror_mode": {
    "name": "ipython",
    "version": 3
   },
   "file_extension": ".py",
   "mimetype": "text/x-python",
   "name": "python",
   "nbconvert_exporter": "python",
   "pygments_lexer": "ipython3",
   "version": "3.12.7"
  }
 },
 "nbformat": 4,
 "nbformat_minor": 5
}
